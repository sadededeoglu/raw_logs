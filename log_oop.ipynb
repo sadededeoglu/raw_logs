{
 "cells": [
  {
   "cell_type": "code",
   "execution_count": 11,
   "id": "a59dfa63",
   "metadata": {},
   "outputs": [],
   "source": [
    "import shutil\n",
    "import pandas as pd\n",
    "from pydantic import BaseModel, field_validator\n",
    "from datetime import datetime\n",
    "from sqlalchemy import create_engine\n",
    "from typing import Optional\n",
    "import json\n",
    "from pathlib import Path\n",
    "# Copy the file directly since it's not actually gzipped\n",
    "shutil.copy(\"case_data.parquet.gzip\", \"case_data.parquet\")\n",
    "df = pd.read_parquet(\"case_data.parquet\")"
   ]
  },
  {
   "cell_type": "code",
   "execution_count": null,
   "id": "a82833fc",
   "metadata": {},
   "outputs": [],
   "source": [
    "p = Path(\"//Users//sdedeoglu//Desktop//python//config.json\")\n",
    "\n",
    "text = p.read_text(encoding=\"utf-8\")\n",
    "data = json.loads(text) \n",
    "\n",
    "kullanici = data['kullanici']\n",
    "sifre = data['sifre']  \n",
    "host = data['host']  \n",
    "port = data['port']  \n",
    "veritabani = data['veritabani'] \n",
    "engine = create_engine(f\"mysql+pymysql://{kullanici}:{sifre}@{host}:{port}/{veritabani}\")"
   ]
  },
  {
   "cell_type": "code",
   "execution_count": 16,
   "id": "44a0287c",
   "metadata": {},
   "outputs": [],
   "source": [
    "daaf = pd.read_sql(\"SELECT * FROM logs.ornek_tablo;\", engine)"
   ]
  },
  {
   "cell_type": "code",
   "execution_count": 5,
   "id": "d1ac9799",
   "metadata": {},
   "outputs": [],
   "source": [
    " #=== 1️⃣ Pydantic Modelleri (V2 Style) ===\n",
    "\n",
    "class UserModel(BaseModel):\n",
    "    user_id: float\n",
    "    subscriber_id: Optional[float]\n",
    "    country: Optional[str]\n",
    "    has_email_contact_permission: Optional[bool]\n",
    "    has_phone_contact_permission: Optional[bool]\n",
    "\n",
    "    @field_validator(\"has_email_contact_permission\", \"has_phone_contact_permission\", mode=\"before\")\n",
    "    def to_bool(cls, v):\n",
    "        if v is None:\n",
    "            return None\n",
    "        if isinstance(v, str):\n",
    "            return v.lower() in [\"yes\", \"true\", \"1\"]\n",
    "        return bool(v)\n",
    "\n",
    "\n",
    "class SessionModel(BaseModel):\n",
    "    session_id: str\n",
    "    user_id: Optional[float]\n",
    "    user_agent: Optional[str]\n",
    "    device_type: Optional[str]\n",
    "    ip_address: Optional[str]\n",
    "    utm_source: Optional[str]\n",
    "\n",
    "\n",
    "class EventModel(BaseModel):\n",
    "    request_id: str\n",
    "    session_id: str\n",
    "    funnel_id: str\n",
    "    timestamp: datetime\n",
    "    page_name: str\n",
    "    search_query: Optional[str]\n",
    "    destination_id: Optional[float]\n",
    "    num_guests: Optional[float]\n",
    "\n",
    "\n",
    "class HotelModel(BaseModel):\n",
    "    hotel_id: int\n",
    "    hotel_price: Optional[float]\n",
    "    currency: Optional[str]\n",
    "\n",
    "    @field_validator(\"hotel_price\", mode=\"before\")\n",
    "    def clean_price(cls, v):\n",
    "        if v is None:\n",
    "            return None\n",
    "        if isinstance(v, str):\n",
    "            v = v.replace(\",\", \".\").replace(\"$\", \"\").strip()\n",
    "        try:\n",
    "            return float(v)\n",
    "        except ValueError:\n",
    "            return None\n",
    "\n",
    "\n",
    "class PaymentModel(BaseModel):\n",
    "    request_id: str\n",
    "    payment_status: Optional[str]\n",
    "    confirmation_number: Optional[str]\n",
    "\n",
    "    @field_validator(\"payment_status\", mode=\"before\")\n",
    "    def normalize_status(cls, v):\n",
    "        if v is None:\n",
    "            return None\n",
    "        v = v.strip().lower()\n",
    "        mapping = {\n",
    "            \"success\": \"completed\",\n",
    "            \"done\": \"completed\",\n",
    "            \"ok\": \"completed\",\n",
    "            \"paid\": \"completed\",\n",
    "            \"fail\": \"failed\",\n",
    "            \"error\": \"failed\"\n",
    "        }\n",
    "        return mapping.get(v, v)\n",
    "\n",
    "    @field_validator(\"payment_status\")\n",
    "    def check_valid_values(cls, v):\n",
    "        allowed = {\"pending\", \"completed\", \"failed\", \"refunded\", None}\n",
    "        if v not in allowed:\n",
    "            raise ValueError(f\"Invalid payment status: {v}\")\n",
    "        return v"
   ]
  },
  {
   "cell_type": "code",
   "execution_count": 15,
   "id": "c63c800b",
   "metadata": {},
   "outputs": [],
   "source": [
    "# === 3️⃣ Validation & Normalization ===\n",
    "\n",
    "def validate_with_pydantic(df):\n",
    "    users, sessions, events, hotels, payments = [], [], [], [], []\n",
    "\n",
    "    for row in df.to_dict(orient=\"records\"):\n",
    "        try:\n",
    "            users.append(UserModel(**row).model_dump(exclude_none=True))\n",
    "            sessions.append(SessionModel(**row).model_dump(exclude_none=True))\n",
    "            events.append(EventModel(**row).model_dump(exclude_none=True))\n",
    "            hotels.append(HotelModel(**row).model_dump(exclude_none=True))\n",
    "            payments.append(PaymentModel(**row).model_dump(exclude_none=True))\n",
    "        except Exception as e:\n",
    "            print(f\"Validation error: {e}\")\n",
    "\n",
    "    return (\n",
    "        pd.DataFrame(users).drop_duplicates(subset=['user_id']),\n",
    "        pd.DataFrame(sessions).drop_duplicates(subset=['session_id']),\n",
    "        pd.DataFrame(events),\n",
    "        pd.DataFrame(hotels).drop_duplicates(subset=['hotel_id']),\n",
    "        pd.DataFrame(payments)\n",
    "    )\n",
    "\n",
    "users, sessions, events, hotels, payments = validate_with_pydantic(df)"
   ]
  },
  {
   "cell_type": "markdown",
   "id": "9f7b8471",
   "metadata": {},
   "source": [
    "          ┌───────────────────┐\n",
    "          │      USERS        │\n",
    "          │-------------------│\n",
    "          │ user_id (PK)      │\n",
    "          │ subscriber_id      │\n",
    "          │ country            │\n",
    "          │ email_permission   │\n",
    "          │ phone_permission   │\n",
    "          └─────────┬─────────┘\n",
    "                    │ 1-to-many\n",
    "                    ▼\n",
    "          ┌───────────────────┐\n",
    "          │     SESSIONS      │\n",
    "          │-------------------│\n",
    "          │ session_id (PK)   │\n",
    "          │ user_id (FK)      │\n",
    "          │ device_type       │\n",
    "          │ user_agent        │\n",
    "          │ ip_address        │\n",
    "          │ utm_source        │\n",
    "          └─────────┬─────────┘\n",
    "                    │ 1-to-many\n",
    "                    ▼\n",
    "          ┌───────────────────┐\n",
    "          │      EVENTS       │\n",
    "          │-------------------│\n",
    "          │ request_id (PK)   │\n",
    "          │ session_id (FK)   │\n",
    "          │ hotel_id (FK)     │\n",
    "          │ funnel_id         │\n",
    "          │ page_name         │\n",
    "          │ timestamp         │\n",
    "          │ search_query      │\n",
    "          │ destination_id    │\n",
    "          └─────────┬─────────┘\n",
    "                    │ 1-to-one\n",
    "                    ▼\n",
    "          ┌───────────────────┐\n",
    "          │     PAYMENTS      │\n",
    "          │-------------------│\n",
    "          │ confirmation_num  │\n",
    "          │ request_id (FK)   │\n",
    "          │ payment_status    │\n",
    "          └───────────────────┘\n",
    "\n",
    "          ┌───────────────────┐\n",
    "          │      HOTELS       │\n",
    "          │-------------------│\n",
    "          │ hotel_id (PK)     │\n",
    "          │ hotel_price       │\n",
    "          │ currency          │\n",
    "          └───────────────────┘"
   ]
  },
  {
   "cell_type": "code",
   "execution_count": 18,
   "id": "d3046d2c",
   "metadata": {},
   "outputs": [
    {
     "data": {
      "application/vnd.microsoft.datawrangler.viewer.v0+json": {
       "columns": [
        {
         "name": "index",
         "rawType": "int64",
         "type": "integer"
        },
        {
         "name": "request_id",
         "rawType": "object",
         "type": "string"
        },
        {
         "name": "payment_status",
         "rawType": "object",
         "type": "unknown"
        },
        {
         "name": "confirmation_number",
         "rawType": "object",
         "type": "unknown"
        }
       ],
       "ref": "e569a616-76ac-4f8b-be9b-d6db99814282",
       "rows": [
        [
         "0",
         "AmyAWHLkTnLIOLNZ",
         null,
         null
        ],
        [
         "1",
         "CfqNJ2Ejg6LvRMKi",
         null,
         null
        ],
        [
         "2",
         "nxC8LGnrNofisZwa",
         null,
         null
        ],
        [
         "3",
         "63tXuafqdH7w5vet",
         null,
         null
        ],
        [
         "4",
         "4Q5ZPnhIcPJXz1eU",
         null,
         null
        ],
        [
         "5",
         "msFRcVdhDV40EgJI",
         null,
         null
        ],
        [
         "6",
         "3Wm3GdraaRDhVLm1",
         "pending",
         null
        ],
        [
         "7",
         "bnCiLEZ1Kfvm7Zu7",
         null,
         "lO5QXBkHRc"
        ],
        [
         "8",
         "ucJCVuDiDJUaS8rs",
         null,
         null
        ],
        [
         "9",
         "kQ4eUobC8sri4hFV",
         null,
         null
        ],
        [
         "10",
         "MO6jfWSRforsceXs",
         null,
         null
        ],
        [
         "11",
         "XU7KGsWRHP7TD53h",
         "failed",
         null
        ],
        [
         "12",
         "CUot27tk4ADhhhJa",
         null,
         "p9brfYnnUp"
        ],
        [
         "13",
         "yoLzMnDXBgVHYxIY",
         null,
         null
        ],
        [
         "14",
         "QR5opULqqtJwYVDM",
         null,
         null
        ],
        [
         "15",
         "a2YKhlcfN2oLpUJb",
         null,
         null
        ],
        [
         "16",
         "9simC9ZDceYRMSBA",
         null,
         null
        ],
        [
         "17",
         "JdnW9VcMAxtdsTi7",
         null,
         null
        ],
        [
         "18",
         "tCHk2DIrIptPvEmG",
         null,
         null
        ],
        [
         "19",
         "oED0DB6SdFbkNrEL",
         null,
         null
        ],
        [
         "20",
         "OBmp6aCd15g2kA5v",
         null,
         null
        ],
        [
         "21",
         "gyd5j9WUKhk8HnCO",
         "pending",
         null
        ],
        [
         "22",
         "XEMF7MCHFVMiReFl",
         null,
         null
        ],
        [
         "23",
         "0OFJqqMaas3fmjBt",
         null,
         null
        ],
        [
         "24",
         "d9dS20TsKw6uJFeN",
         null,
         null
        ],
        [
         "25",
         "cGomdHnsTfvpbrCo",
         "failed",
         null
        ],
        [
         "26",
         "13QOTcYEDYaMAFOl",
         null,
         null
        ],
        [
         "27",
         "P1gV6NBuYK4K8BbO",
         null,
         null
        ],
        [
         "28",
         "ORKVnZlOiVjVL33T",
         null,
         null
        ],
        [
         "29",
         "b4ZkI2hWX0gxIUdM",
         "pending",
         null
        ],
        [
         "30",
         "0dHMw7l1lamMmr13",
         null,
         null
        ],
        [
         "31",
         "X1mF1lLkJxIpDPRy",
         null,
         null
        ],
        [
         "32",
         "vndB7w588S4x1gFs",
         null,
         null
        ],
        [
         "33",
         "LYOTgHfT5ruygckW",
         "pending",
         null
        ],
        [
         "34",
         "ZWdq4M4d2xJaLyfN",
         null,
         null
        ],
        [
         "35",
         "m5CvI6ECTGvluTJQ",
         null,
         null
        ],
        [
         "36",
         "A02A7ylYReNKLJXD",
         null,
         null
        ],
        [
         "37",
         "XZ2FEDVpsL1JaOix",
         "pending",
         null
        ],
        [
         "38",
         "NFgF6GaDuhGXRt0Q",
         null,
         null
        ],
        [
         "39",
         "iNIsU1YluwDTltk0",
         null,
         null
        ],
        [
         "40",
         "xDwhK30WRe7ns6bl",
         null,
         null
        ],
        [
         "41",
         "0bX0KYiOfXicpoII",
         null,
         null
        ],
        [
         "42",
         "p4wbCkHwXAexj0Qj",
         null,
         null
        ],
        [
         "43",
         "lAjwyMQCGWpbyxuW",
         null,
         null
        ],
        [
         "44",
         "1B5yoDrLcvz2StGY",
         "failed",
         null
        ],
        [
         "45",
         "yCqWoXamwcbounmf",
         null,
         "wXQuH8QJ9X"
        ],
        [
         "46",
         "klAFR1F3v9accoM9",
         null,
         null
        ],
        [
         "47",
         "0kraxSglrun8rpQX",
         null,
         null
        ],
        [
         "48",
         "nzwDInLSPUWm44yQ",
         null,
         null
        ],
        [
         "49",
         "dl3PbZRg8qV2F5QB",
         null,
         null
        ]
       ],
       "shape": {
        "columns": 3,
        "rows": 350690
       }
      },
      "text/html": [
       "<div>\n",
       "<style scoped>\n",
       "    .dataframe tbody tr th:only-of-type {\n",
       "        vertical-align: middle;\n",
       "    }\n",
       "\n",
       "    .dataframe tbody tr th {\n",
       "        vertical-align: top;\n",
       "    }\n",
       "\n",
       "    .dataframe thead th {\n",
       "        text-align: right;\n",
       "    }\n",
       "</style>\n",
       "<table border=\"1\" class=\"dataframe\">\n",
       "  <thead>\n",
       "    <tr style=\"text-align: right;\">\n",
       "      <th></th>\n",
       "      <th>request_id</th>\n",
       "      <th>payment_status</th>\n",
       "      <th>confirmation_number</th>\n",
       "    </tr>\n",
       "  </thead>\n",
       "  <tbody>\n",
       "    <tr>\n",
       "      <th>0</th>\n",
       "      <td>AmyAWHLkTnLIOLNZ</td>\n",
       "      <td>NaN</td>\n",
       "      <td>NaN</td>\n",
       "    </tr>\n",
       "    <tr>\n",
       "      <th>1</th>\n",
       "      <td>CfqNJ2Ejg6LvRMKi</td>\n",
       "      <td>NaN</td>\n",
       "      <td>NaN</td>\n",
       "    </tr>\n",
       "    <tr>\n",
       "      <th>2</th>\n",
       "      <td>nxC8LGnrNofisZwa</td>\n",
       "      <td>NaN</td>\n",
       "      <td>NaN</td>\n",
       "    </tr>\n",
       "    <tr>\n",
       "      <th>3</th>\n",
       "      <td>63tXuafqdH7w5vet</td>\n",
       "      <td>NaN</td>\n",
       "      <td>NaN</td>\n",
       "    </tr>\n",
       "    <tr>\n",
       "      <th>4</th>\n",
       "      <td>4Q5ZPnhIcPJXz1eU</td>\n",
       "      <td>NaN</td>\n",
       "      <td>NaN</td>\n",
       "    </tr>\n",
       "    <tr>\n",
       "      <th>...</th>\n",
       "      <td>...</td>\n",
       "      <td>...</td>\n",
       "      <td>...</td>\n",
       "    </tr>\n",
       "    <tr>\n",
       "      <th>350685</th>\n",
       "      <td>a6J4UVq7Hn7VO5UG</td>\n",
       "      <td>NaN</td>\n",
       "      <td>NaN</td>\n",
       "    </tr>\n",
       "    <tr>\n",
       "      <th>350686</th>\n",
       "      <td>e8PJnJEJNTj5h9g9</td>\n",
       "      <td>NaN</td>\n",
       "      <td>NaN</td>\n",
       "    </tr>\n",
       "    <tr>\n",
       "      <th>350687</th>\n",
       "      <td>Y6db20pQs3otMNrF</td>\n",
       "      <td>NaN</td>\n",
       "      <td>NaN</td>\n",
       "    </tr>\n",
       "    <tr>\n",
       "      <th>350688</th>\n",
       "      <td>6BOeeLgI0xW04279</td>\n",
       "      <td>pending</td>\n",
       "      <td>NaN</td>\n",
       "    </tr>\n",
       "    <tr>\n",
       "      <th>350689</th>\n",
       "      <td>bxWQbDnSzim4Bkzy</td>\n",
       "      <td>NaN</td>\n",
       "      <td>Y2fBYxYMrn</td>\n",
       "    </tr>\n",
       "  </tbody>\n",
       "</table>\n",
       "<p>350690 rows × 3 columns</p>\n",
       "</div>"
      ],
      "text/plain": [
       "              request_id payment_status confirmation_number\n",
       "0       AmyAWHLkTnLIOLNZ            NaN                 NaN\n",
       "1       CfqNJ2Ejg6LvRMKi            NaN                 NaN\n",
       "2       nxC8LGnrNofisZwa            NaN                 NaN\n",
       "3       63tXuafqdH7w5vet            NaN                 NaN\n",
       "4       4Q5ZPnhIcPJXz1eU            NaN                 NaN\n",
       "...                  ...            ...                 ...\n",
       "350685  a6J4UVq7Hn7VO5UG            NaN                 NaN\n",
       "350686  e8PJnJEJNTj5h9g9            NaN                 NaN\n",
       "350687  Y6db20pQs3otMNrF            NaN                 NaN\n",
       "350688  6BOeeLgI0xW04279        pending                 NaN\n",
       "350689  bxWQbDnSzim4Bkzy            NaN          Y2fBYxYMrn\n",
       "\n",
       "[350690 rows x 3 columns]"
      ]
     },
     "execution_count": 18,
     "metadata": {},
     "output_type": "execute_result"
    }
   ],
   "source": [
    "payments"
   ]
  },
  {
   "cell_type": "markdown",
   "id": "2ce04331",
   "metadata": {},
   "source": [
    "veriler olusturuldu. db aktarılması lazım merge into kısmını göstermek için."
   ]
  },
  {
   "cell_type": "code",
   "execution_count": null,
   "id": "5b189b00",
   "metadata": {},
   "outputs": [
    {
     "data": {
      "text/plain": [
       "101"
      ]
     },
     "execution_count": 17,
     "metadata": {},
     "output_type": "execute_result"
    }
   ],
   "source": [
    "hotels_df.to_sql(name='hotels', con=engine,if_exists='append', index=False)"
   ]
  },
  {
   "cell_type": "code",
   "execution_count": null,
   "id": "11d032bf",
   "metadata": {},
   "outputs": [],
   "source": [
    "\n",
    "# === 2️⃣ Örnek Veri (Senin Verin) ===\n",
    "\n",
    "sample_data = [\n",
    "    {\n",
    "        'request_id': 'AmyAWHLkTnLIOLNZ',\n",
    "        'funnel_id': 'afe5v8jbLSw6',\n",
    "        'session_id': 'LE9SLAMUggaTTAjS',\n",
    "        'user_id': 3009.0,\n",
    "        'user_agent': 'Chrome/105 (Windows)',\n",
    "        'device_type': 'mobile',\n",
    "        'ip_address': '255.135.228.144',\n",
    "        'timestamp': pd.Timestamp('2025-09-07 12:07:59.514928'),\n",
    "        'page_name': 'search',\n",
    "        'subscriber_id': 105.0,\n",
    "        'has_email_contact_permission': 'no',\n",
    "        'has_phone_contact_permission': None,\n",
    "        'hotel_price': '93,71',\n",
    "        'hotel_id': 183,\n",
    "        'currency': 'EUR',\n",
    "        'country': 'GB',\n",
    "        'utm_source': None,\n",
    "        'search_query': 'query_56',\n",
    "        'num_guests': 4.0,\n",
    "        'destination_id': 1.0\n",
    "    },\n",
    "    {\n",
    "        'request_id': 'CfqNJ2Ejg6LvRMKi',\n",
    "        'funnel_id': 'afe5v8jbLSw6',\n",
    "        'session_id': 'LE9SLAMUggaTTAjS',\n",
    "        'user_id': 3009.0,\n",
    "        'user_agent': 'Chrome/105 (Windows)',\n",
    "        'device_type': 'mobile',\n",
    "        'ip_address': '255.135.228.144',\n",
    "        'timestamp': pd.Timestamp('2025-09-07 12:09:59.514928'),\n",
    "        'page_name': 'detail_search',\n",
    "        'subscriber_id': 105.0,\n",
    "        'has_email_contact_permission': 'no',\n",
    "        'has_phone_contact_permission': None,\n",
    "        'hotel_price': '326,71',\n",
    "        'hotel_id': 183,\n",
    "        'currency': 'EUR',\n",
    "        'country': 'GB',\n",
    "        'utm_source': None,\n",
    "        'search_query': None,\n",
    "        'num_guests': None,\n",
    "        'destination_id': None\n",
    "    },\n",
    "    {\n",
    "        'request_id': 'nxC8LGnrNofisZwa',\n",
    "        'funnel_id': 'afe5v8jbLSw6',\n",
    "        'session_id': 'LE9SLAMUggaTTAjS',\n",
    "        'user_id': 3009.0,\n",
    "        'user_agent': 'Chrome/105 (Windows)',\n",
    "        'device_type': 'mobile',\n",
    "        'ip_address': '255.135.228.144',\n",
    "        'timestamp': pd.Timestamp('2025-09-07 12:14:59.514928'),\n",
    "        'page_name': 'reservation',\n",
    "        'subscriber_id': 105.0,\n",
    "        'has_email_contact_permission': 'no',\n",
    "        'has_phone_contact_permission': None,\n",
    "        'hotel_price': '326,71',\n",
    "        'hotel_id': 183,\n",
    "        'currency': 'EUR',\n",
    "        'country': 'GB',\n",
    "        'utm_source': None,\n",
    "        'search_query': None,\n",
    "        'num_guests': None,\n",
    "        'destination_id': None\n",
    "    }\n",
    "]\n",
    "\n",
    "df_raw = pd.DataFrame(sample_data)\n",
    "print(\"Ham Veri:\")\n",
    "print(df_raw.head(), \"\\n\")"
   ]
  }
 ],
 "metadata": {
  "kernelspec": {
   "display_name": "Python 3",
   "language": "python",
   "name": "python3"
  },
  "language_info": {
   "codemirror_mode": {
    "name": "ipython",
    "version": 3
   },
   "file_extension": ".py",
   "mimetype": "text/x-python",
   "name": "python",
   "nbconvert_exporter": "python",
   "pygments_lexer": "ipython3",
   "version": "3.9.6"
  }
 },
 "nbformat": 4,
 "nbformat_minor": 5
}
