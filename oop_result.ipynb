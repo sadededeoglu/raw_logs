{
 "cells": [
  {
   "cell_type": "code",
   "execution_count": null,
   "id": "4311eb34",
   "metadata": {},
   "outputs": [],
   "source": [
    "from pathlib import Path\n",
    "import json\n",
    "from sqlalchemy import create_engine\n",
    "from log_pipeline import LogPipeline\n",
    "\n",
    "# config yükle\n",
    "cfg_text = Path(\"//Users//sdedeoglu//Desktop//python//config.json\").read_text(encoding=\"utf-8\")\n",
    "cfg = json.loads(cfg_text)\n",
    "engine = create_engine(f\"mysql+pymysql://{cfg['kullanici']}:{cfg['sifre']}@{cfg['host']}:{cfg['port']}/{cfg['veritabani']}\")\n",
    "\n",
    "pipeline = LogPipeline(\"//Users//sdedeoglu//Desktop//python//case_data.parquet.gzip\", engine)\n",
    "pipeline.run_once()"
   ]
  },
  {
   "cell_type": "markdown",
   "id": "832c1678",
   "metadata": {},
   "source": [
    "#yada"
   ]
  },
  {
   "cell_type": "code",
   "execution_count": null,
   "id": "413550c0",
   "metadata": {},
   "outputs": [],
   "source": [
    "from pathlib import Path\n",
    "import json\n",
    "from sqlalchemy import create_engine\n",
    "from log_pipeline import LogPipeline\n",
    "\n",
    "# config yükle\n",
    "cfg_text = Path(\"/Users/sdedeoglu/Desktop/python/config.json\").read_text(encoding=\"utf-8\")\n",
    "cfg = json.loads(cfg_text)\n",
    "engine = create_engine(f\"mysql+pymysql://{cfg['kullanici']}:{cfg['sifre']}@{cfg['host']}:{cfg['port']}/{cfg['veritabani']}\")\n",
    "\n",
    "pipeline = LogPipeline(\"/Users/sdedeoglu/Desktop/python/case_data.parquet.gzip\", engine)\n",
    "\n",
    "# Büyük dosyalar için chunk\n",
    "for batch in pipeline.reader.read_in_batches(batch_size=10000):\n",
    "    # zorunlu sütunları temizle\n",
    "    batch.dropna(subset=[\"user_id\", \"session_id\", \"hotel_id\", \"request_id\", \"funnel_id\"], inplace=True)\n",
    "    users, sessions, events, hotels, payments = pipeline.validator.validate(batch)\n",
    "\n",
    "    # updated_Date ekle\n",
    "    now = pipeline.now\n",
    "    for tbl in (users, sessions, events, hotels, payments):\n",
    "        if not getattr(tbl, \"empty\", True):\n",
    "            tbl[\"updated_Date\"] = now\n",
    "\n",
    "    # yaz\n",
    "    pipeline.writer.upsert_df(users, \"users\")\n",
    "    pipeline.writer.upsert_df(sessions, \"sessions\")\n",
    "    pipeline.writer.upsert_df(events, \"events\")\n",
    "    pipeline.writer.upsert_df(hotels, \"hotels\")\n",
    "    pipeline.writer.upsert_df(payments, \"payments\")"
   ]
  }
 ],
 "metadata": {
  "kernelspec": {
   "display_name": "Python 3",
   "language": "python",
   "name": "python3"
  },
  "language_info": {
   "codemirror_mode": {
    "name": "ipython",
    "version": 3
   },
   "file_extension": ".py",
   "mimetype": "text/x-python",
   "name": "python",
   "nbconvert_exporter": "python",
   "pygments_lexer": "ipython3",
   "version": "3.9.6"
  }
 },
 "nbformat": 4,
 "nbformat_minor": 5
}
