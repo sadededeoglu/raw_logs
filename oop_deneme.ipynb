{
 "cells": [
  {
   "cell_type": "code",
   "execution_count": 11,
   "id": "d253d2a6",
   "metadata": {},
   "outputs": [],
   "source": [
    "import json\n",
    "import shutil\n",
    "import pandas as pd\n",
    "from pathlib import Path\n",
    "from typing import Optional\n",
    "from datetime import datetime\n",
    "from sqlalchemy import create_engine\n",
    "from pydantic import BaseModel, field_validator"
   ]
  },
  {
   "cell_type": "markdown",
   "id": "662080cc",
   "metadata": {},
   "source": [
    "# Reader"
   ]
  },
  {
   "cell_type": "code",
   "execution_count": 3,
   "id": "6388ca9a",
   "metadata": {},
   "outputs": [],
   "source": [
    "class DataReader:\n",
    "    \"\"\"Veri okuma işlemini soyutlayan base class\"\"\"\n",
    "    def read(self) -> pd.DataFrame:\n",
    "        raise NotImplementedError"
   ]
  },
  {
   "cell_type": "code",
   "execution_count": 4,
   "id": "7db32c2c",
   "metadata": {},
   "outputs": [],
   "source": [
    "class ParquetReader(DataReader):\n",
    "    def __init__(self, file_path: str):\n",
    "        self.file_path = file_path\n",
    "\n",
    "    def read(self) -> pd.DataFrame:\n",
    "        if self.file_path.endswith(\".gzip\"):\n",
    "            shutil.copy(self.file_path, self.file_path.replace(\".gzip\", \"\"))\n",
    "            path = self.file_path.replace(\".gzip\", \"\")\n",
    "        else:\n",
    "            path = self.file_path\n",
    "        return pd.read_parquet(path)"
   ]
  },
  {
   "cell_type": "code",
   "execution_count": 5,
   "id": "58bd3115",
   "metadata": {},
   "outputs": [],
   "source": [
    "class ConfigReader:\n",
    "    \"\"\"Config json dosyasını okur\"\"\"\n",
    "    def __init__(self, config_path: str):\n",
    "        self.config_path = Path(config_path)\n",
    "\n",
    "    def read(self) -> dict:\n",
    "        text = self.config_path.read_text(encoding=\"utf-8\")\n",
    "        return json.loads(text)"
   ]
  },
  {
   "cell_type": "markdown",
   "id": "a11ed28a",
   "metadata": {},
   "source": [
    "# Validation & Normalization"
   ]
  },
  {
   "cell_type": "code",
   "execution_count": 6,
   "id": "6749a22f",
   "metadata": {},
   "outputs": [],
   "source": [
    "class UserModel(BaseModel):\n",
    "    user_id: float\n",
    "    subscriber_id: Optional[float]\n",
    "    country: Optional[str]\n",
    "    has_email_contact_permission: Optional[bool]\n",
    "    has_phone_contact_permission: Optional[bool]\n",
    "\n",
    "    @field_validator(\"has_email_contact_permission\", \"has_phone_contact_permission\", mode=\"before\")\n",
    "    def to_bool(cls, v):\n",
    "        if v is None:\n",
    "            return None\n",
    "        if isinstance(v, str):\n",
    "            return v.lower() in [\"yes\", \"true\", \"1\"]\n",
    "        return bool(v)\n",
    "\n",
    "\n",
    "class SessionModel(BaseModel):\n",
    "    session_id: str\n",
    "    user_id: Optional[float]\n",
    "    user_agent: Optional[str]\n",
    "    device_type: Optional[str]\n",
    "    ip_address: Optional[str]\n",
    "    utm_source: Optional[str]\n",
    "\n",
    "\n",
    "class EventModel(BaseModel):\n",
    "    request_id: str\n",
    "    session_id: str\n",
    "    funnel_id: str\n",
    "    timestamp: datetime\n",
    "    page_name: str\n",
    "    search_query: Optional[str]\n",
    "    destination_id: Optional[float]\n",
    "    num_guests: Optional[float]\n",
    "\n",
    "\n",
    "class HotelModel(BaseModel):\n",
    "    hotel_id: int\n",
    "    hotel_price: Optional[float]\n",
    "    currency: Optional[str]\n",
    "\n",
    "    @field_validator(\"hotel_price\", mode=\"before\")\n",
    "    def clean_price(cls, v):\n",
    "        if v is None:\n",
    "            return None\n",
    "        if isinstance(v, str):\n",
    "            v = v.replace(\",\", \".\").replace(\"$\", \"\").strip()\n",
    "        try:\n",
    "            return float(v)\n",
    "        except ValueError:\n",
    "            return None\n",
    "\n",
    "\n",
    "class PaymentModel(BaseModel):\n",
    "    request_id: str\n",
    "    payment_status: Optional[str]\n",
    "    confirmation_number: Optional[str]\n",
    "\n",
    "    @field_validator(\"payment_status\", mode=\"before\")\n",
    "    def normalize_status(cls, v):\n",
    "        if v is None:\n",
    "            return None\n",
    "        v = v.strip().lower()\n",
    "        mapping = {\n",
    "            \"success\": \"completed\",\n",
    "            \"done\": \"completed\",\n",
    "            \"ok\": \"completed\",\n",
    "            \"paid\": \"completed\",\n",
    "            \"fail\": \"failed\",\n",
    "            \"error\": \"failed\"\n",
    "        }\n",
    "        return mapping.get(v, v)\n",
    "\n",
    "    @field_validator(\"payment_status\")\n",
    "    def check_valid_values(cls, v):\n",
    "        allowed = {\"pending\", \"completed\", \"failed\", \"refunded\", None}\n",
    "        if v not in allowed:\n",
    "            raise ValueError(f\"Invalid payment status: {v}\")\n",
    "        return v"
   ]
  },
  {
   "cell_type": "markdown",
   "id": "1f973da3",
   "metadata": {},
   "source": [
    "# Validation ve Normalizasyon işlemleri"
   ]
  },
  {
   "cell_type": "code",
   "execution_count": 7,
   "id": "ac8b1f19",
   "metadata": {},
   "outputs": [],
   "source": [
    "class FunnelProcessor:\n",
    "    \"\"\"Veriyi validate eder, normalize eder ve tabloya ayırır\"\"\"\n",
    "    def validate_and_normalize(self, df: pd.DataFrame) -> dict:\n",
    "        users, sessions, events, hotels, payments = [], [], [], [], []\n",
    "\n",
    "        for row in df.to_dict(orient=\"records\"):\n",
    "            try:\n",
    "                users.append(UserModel(**row).model_dump(exclude_none=True))\n",
    "                sessions.append(SessionModel(**row).model_dump(exclude_none=True))\n",
    "                events.append(EventModel(**row).model_dump(exclude_none=True))\n",
    "                hotels.append(HotelModel(**row).model_dump(exclude_none=True))\n",
    "                payments.append(PaymentModel(**row).model_dump(exclude_none=True))\n",
    "            except Exception as e:\n",
    "                print(f\"Validation error: {e}\")\n",
    "\n",
    "        return {\n",
    "            \"users\": pd.DataFrame(users).drop_duplicates(subset=['user_id']),\n",
    "            \"sessions\": pd.DataFrame(sessions).drop_duplicates(subset=['session_id']),\n",
    "            \"events\": pd.DataFrame(events),\n",
    "            \"hotels\": pd.DataFrame(hotels).drop_duplicates(subset=['hotel_id']),\n",
    "            \"payments\": pd.DataFrame(payments)\n",
    "        }"
   ]
  },
  {
   "cell_type": "markdown",
   "id": "592e8dd7",
   "metadata": {},
   "source": [
    "# data insert"
   ]
  },
  {
   "cell_type": "code",
   "execution_count": null,
   "id": "8b9d897c",
   "metadata": {},
   "outputs": [],
   "source": [
    "to sql kısmına chunk ekle"
   ]
  },
  {
   "cell_type": "code",
   "execution_count": null,
   "id": "fb987c56",
   "metadata": {},
   "outputs": [],
   "source": [
    "class MySQLWriter:\n",
    "    \"\"\"Normalize edilmiş tabloları MySQL’e yazar\"\"\"\n",
    "    def __init__(self, config: dict):\n",
    "        self.engine = create_engine(\n",
    "            f\"mysql+pymysql://{config['kullanici']}:{config['sifre']}@{config['host']}:{config['port']}/{config['veritabani']}\"\n",
    "        )\n",
    "\n",
    "    def write(self, tables: dict):\n",
    "        for name, df in tables.items():\n",
    "            df.to_sql(name, con=self.engine, if_exists='append', index=False)\n",
    "            print(f\"✅ {name} tablosu MySQL'e yazıldı.\")"
   ]
  },
  {
   "cell_type": "markdown",
   "id": "4aed8a5f",
   "metadata": {},
   "source": [
    "# Pipeline: Tüm adımları bir araya getiren sınıf"
   ]
  },
  {
   "cell_type": "code",
   "execution_count": 9,
   "id": "c7184c7c",
   "metadata": {},
   "outputs": [],
   "source": [
    "class FunnelPipeline:\n",
    "    \"\"\"Reader → Processor → Writer akışını yöneten pipeline\"\"\"\n",
    "    def __init__(self, data_path: str, config_path: str):\n",
    "        self.reader = ParquetReader(data_path)\n",
    "        self.config = ConfigReader(config_path).read()\n",
    "        self.processor = FunnelProcessor()\n",
    "        self.writer = MySQLWriter(self.config)\n",
    "\n",
    "    def run(self):\n",
    "        df_raw = self.reader.read() #verinin okunması\n",
    "        normalized_tables = self.processor.validate_and_normalize(df_raw) #normalize işlemi\n",
    "        self.writer.write(normalized_tables) #insert işlemi"
   ]
  },
  {
   "cell_type": "markdown",
   "id": "f72c0798",
   "metadata": {},
   "source": [
    "# Pipeline'ı çalıştır"
   ]
  },
  {
   "cell_type": "code",
   "execution_count": 10,
   "id": "92449eba",
   "metadata": {},
   "outputs": [
    {
     "name": "stdout",
     "output_type": "stream",
     "text": [
      "✅ users tablosu MySQL'e yazıldı.\n",
      "✅ sessions tablosu MySQL'e yazıldı.\n",
      "✅ events tablosu MySQL'e yazıldı.\n",
      "✅ hotels tablosu MySQL'e yazıldı.\n",
      "✅ payments tablosu MySQL'e yazıldı.\n"
     ]
    }
   ],
   "source": [
    "if __name__ == \"__main__\":\n",
    "    pipeline = FunnelPipeline(\n",
    "        data_path=\"//Users//sdedeoglu//Desktop//python//case_data.parquet.gzip\",\n",
    "        config_path=\"//Users//sdedeoglu//Desktop//python//config.json\")\n",
    "    pipeline.run()"
   ]
  },
  {
   "cell_type": "markdown",
   "id": "17bbad83",
   "metadata": {},
   "source": [
    "unit test"
   ]
  },
  {
   "cell_type": "code",
   "execution_count": null,
   "id": "a522e62e",
   "metadata": {},
   "outputs": [],
   "source": [
    "def test_user_model_valid():\n",
    "    row = {\"user_id\": 123, \"has_email_contact_permission\": \"yes\"}\n",
    "    u = UserModel(**row)\n",
    "    assert u.has_email_contact_permission is True\n",
    "\n",
    "def test_funnel_processor_splits_tables():\n",
    "    df = pd.DataFrame([{\n",
    "        \"request_id\": \"r1\", \"session_id\": \"s1\", \"user_id\": 1, \"timestamp\": \"2025-01-01T10:00:00\"\n",
    "    }])\n",
    "    p = FunnelProcessor()\n",
    "    tables = p.validate_and_normalize(df)\n",
    "    assert \"users\" in tables and \"events\" in tables\n",
    "    assert tables[\"users\"].user_id.iloc[0] == 1"
   ]
  }
 ],
 "metadata": {
  "kernelspec": {
   "display_name": "Python 3",
   "language": "python",
   "name": "python3"
  },
  "language_info": {
   "codemirror_mode": {
    "name": "ipython",
    "version": 3
   },
   "file_extension": ".py",
   "mimetype": "text/x-python",
   "name": "python",
   "nbconvert_exporter": "python",
   "pygments_lexer": "ipython3",
   "version": "3.9.6"
  }
 },
 "nbformat": 4,
 "nbformat_minor": 5
}
