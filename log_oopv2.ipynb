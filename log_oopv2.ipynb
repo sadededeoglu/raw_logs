{
 "cells": [
  {
   "cell_type": "code",
   "execution_count": 15,
   "id": "a59dfa63",
   "metadata": {},
   "outputs": [],
   "source": [
    "import pandas as pd\n",
    "from pydantic import BaseModel, field_validator\n",
    "from datetime import datetime\n",
    "from sqlalchemy import create_engine\n",
    "from typing import Optional\n",
    "import json\n",
    "from pathlib import Path\n",
    "from datetime import datetime\n",
    "\n",
    "now = datetime.now()"
   ]
  },
  {
   "cell_type": "code",
   "execution_count": null,
   "id": "e50fb809",
   "metadata": {},
   "outputs": [],
   "source": [
    "df = pd.read_parquet(\"//Users//sdedeoglu//Desktop//python//case_data.parquet.gzip\")"
   ]
  },
  {
   "cell_type": "code",
   "execution_count": 18,
   "id": "a82833fc",
   "metadata": {},
   "outputs": [],
   "source": [
    "#connection\n",
    "path = Path(\"//Users//sdedeoglu//Desktop//python//config.json\").read_text(encoding=\"utf-8\")\n",
    "config = json.loads(path) \n",
    "\n",
    "kullanici = config['kullanici']\n",
    "sifre = config['sifre']  \n",
    "host = config['host']  \n",
    "port = config['port']  \n",
    "veritabani = config['veritabani'] \n",
    "engine = create_engine(f\"mysql+pymysql://{kullanici}:{sifre}@{host}:{port}/{veritabani}\")"
   ]
  },
  {
   "cell_type": "markdown",
   "id": "9634cd4e",
   "metadata": {},
   "source": [
    " #Pydantic "
   ]
  },
  {
   "cell_type": "markdown",
   "id": "6709b81f",
   "metadata": {},
   "source": [
    "@field_validator(\"alan1\", \"alan2\", mode=\"before\") — alan değerleri Pydantic model oluşturulmadan önce bu fonksiyondan geçirilir.\n",
    "mode=\"after\" — önce Pydantic tipi uygulanır, sonra validator çalışır.\n",
    "Birden fazla alanı aynı validator ile hedefleyebilirsin.\n",
    "Döndürülen değer, o alanın nihai değeri olur; hata fırlatılırsa validation hatası oluşur."
   ]
  },
  {
   "cell_type": "code",
   "execution_count": null,
   "id": "ee33f963",
   "metadata": {},
   "outputs": [],
   "source": [
    "true_set = {\"yes\", \"true\", \"1\", \"y\", \"evet\"}\n",
    "false_set = {\"no\", \"false\", \"0\", \"n\", \"hayir\", \"hayır\"}\n",
    "\n",
    "formats = [\n",
    "\"%Y-%m-%d %H:%M:%S.%f\",  \n",
    "\"%Y-%m-%d %H:%M:%S\",     \n",
    "\"%Y-%m-%dT%H:%M:%S.%fZ\", \n",
    "\"%Y-%m-%dT%H:%M:%S\",     \n",
    "\"%d/%m/%Y %H:%M:%S\",     \n",
    "\"%d-%m-%Y %H:%M:%S\"]\n",
    "\n",
    "status = {\n",
    "\"done\": \"success\",\n",
    "\"ok\": \"success\",\n",
    "\"paid\": \"success\",\n",
    "\"fail\": \"failed\",\n",
    "\"error\": \"failed\"}"
   ]
  },
  {
   "cell_type": "code",
   "execution_count": 20,
   "id": "dba6bfe9",
   "metadata": {},
   "outputs": [],
   "source": [
    "class UserModel(BaseModel):\n",
    "    #veri tiplerinin belirlenmesi\n",
    "    user_id: Optional[float]\n",
    "    subscriber_id: Optional[float]\n",
    "    country: str\n",
    "    has_email_contact_permission: Optional[bool]\n",
    "    has_phone_contact_permission: Optional[bool]\n",
    "\n",
    "    @field_validator(\"has_email_contact_permission\", \"has_phone_contact_permission\", mode=\"before\")\n",
    "    def to_bool(cls, v):\n",
    "        #izin sutunlarinin bool tipine cevrilmesi\n",
    "        if v is None:\n",
    "            return None\n",
    "        if isinstance(v, str):\n",
    "            s = v.strip().lower()\n",
    "            if s in true_set:\n",
    "                return True\n",
    "            if s in false_set:\n",
    "                return False\n",
    "        else:\n",
    "            return None"
   ]
  },
  {
   "cell_type": "code",
   "execution_count": 21,
   "id": "82eb10b0",
   "metadata": {},
   "outputs": [],
   "source": [
    "class EventModel(BaseModel):\n",
    "    request_id: str\n",
    "    session_id: str\n",
    "    funnel_id: str\n",
    "    timestamp: datetime\n",
    "    page_name: str\n",
    "    search_query: Optional[str]\n",
    "    destination_id: Optional[float]\n",
    "    num_guests: Optional[float]\n",
    "    #timestamp sutununda belirli formatlarda gelen tarih degerlerini datetime objesine cevirme\n",
    "    @field_validator(\"timestamp\", mode=\"before\")\n",
    "    def parse_timestamp(cls, v):\n",
    "        if isinstance(v, datetime):\n",
    "            return v\n",
    "        if v is None:\n",
    "            raise ValueError(\"timestamp boş olamaz\")\n",
    "        if isinstance(v, str):\n",
    "            try:\n",
    "                for fmt in formats:\n",
    "                    return datetime.strptime(v, fmt)\n",
    "            except ValueError:\n",
    "                raise ValueError(\"timestamp geçersiz\")"
   ]
  },
  {
   "cell_type": "code",
   "execution_count": 22,
   "id": "3120a433",
   "metadata": {},
   "outputs": [],
   "source": [
    "class HotelModel(BaseModel):\n",
    "    hotel_id: int\n",
    "    hotel_price: Optional[float]\n",
    "    currency: str\n",
    "#otel ucretlerinde gereksiz karakterlerin temizlenmesi \n",
    "    @field_validator(\"hotel_price\", mode=\"before\")\n",
    "    def clean_price(cls, v):\n",
    "        if v is None:\n",
    "            return None\n",
    "        if isinstance(v, str):\n",
    "            v = v.replace(\",\", \".\").replace(\"$\", \"\").strip()\n",
    "        try:\n",
    "            return float(v)\n",
    "        except (ValueError, TypeError):\n",
    "            return None"
   ]
  },
  {
   "cell_type": "code",
   "execution_count": 23,
   "id": "d1ac9799",
   "metadata": {},
   "outputs": [],
   "source": [
    "class PaymentModel(BaseModel):\n",
    "    request_id: str\n",
    "    payment_status: Optional[str]\n",
    "    confirmation_number: Optional[str]\n",
    "#odeme sutununun belirlenen fortmata cevrilmesi\n",
    "    @field_validator(\"payment_status\", mode=\"before\")\n",
    "    def normalize_status(cls, v):\n",
    "        if v is None:\n",
    "            return None\n",
    "        else:\n",
    "            v = v.strip().lower()\n",
    "        return status.get(v, v)\n",
    "#icerik kontrolu\n",
    "    @field_validator(\"payment_status\")\n",
    "    def check_valid_values(cls, v):\n",
    "        allowed = {\"pending\", \"success\", \"failed\", None}\n",
    "        if v not in allowed:\n",
    "            raise ValueError(f\"Invalid payment status: {v}\")\n",
    "        return v"
   ]
  },
  {
   "cell_type": "code",
   "execution_count": 24,
   "id": "54635e0e",
   "metadata": {},
   "outputs": [],
   "source": [
    "class SessionModel(BaseModel):\n",
    "    session_id: str\n",
    "    user_id: Optional[float]\n",
    "    user_agent: Optional[str]\n",
    "    device_type: Optional[str]\n",
    "    ip_address: Optional[str]\n",
    "    utm_source: Optional[str]\n",
    "\n",
    "    @field_validator(\"session_id\", mode=\"before\")\n",
    "    def session_id_not_empty(cls, v):\n",
    "        if v is None:\n",
    "            raise ValueError(\"session_id boş olamaz\")\n",
    "        if isinstance(v, str):\n",
    "            v = v.strip()\n",
    "            if not v:\n",
    "                raise ValueError(\"session_id boş olamaz\")\n",
    "            return v\n",
    "        return str(v)"
   ]
  },
  {
   "cell_type": "code",
   "execution_count": null,
   "id": "c63c800b",
   "metadata": {},
   "outputs": [],
   "source": [
    "#Validation & Normalization\n",
    "\n",
    "def validate_with_pydantic(df):\n",
    "    users, sessions, events, hotels, payments = [], [], [], [], []\n",
    "\n",
    "    for row in df.to_dict(orient=\"records\"):\n",
    "        try:\n",
    "            users.append(UserModel(**row).model_dump(exclude_none=True))\n",
    "            sessions.append(SessionModel(**row).model_dump(exclude_none=True))\n",
    "            events.append(EventModel(**row).model_dump(exclude_none=True))\n",
    "            hotels.append(HotelModel(**row).model_dump(exclude_none=True))\n",
    "            payments.append(PaymentModel(**row).model_dump(exclude_none=True))\n",
    "        except Exception as e:\n",
    "            print(f\"Validation error: {e}\")\n",
    "\n",
    "    return (\n",
    "        pd.DataFrame(users).drop_duplicates(subset=['user_id']),\n",
    "        pd.DataFrame(sessions).drop_duplicates(subset=['session_id']),\n",
    "        pd.DataFrame(events),\n",
    "        pd.DataFrame(hotels).drop_duplicates(subset=['hotel_id']),\n",
    "        pd.DataFrame(payments)\n",
    "    )\n",
    "\n",
    "users, sessions, events, hotels, payments = validate_with_pydantic(df)"
   ]
  },
  {
   "cell_type": "code",
   "execution_count": 26,
   "id": "d07cfbbc",
   "metadata": {},
   "outputs": [],
   "source": [
    "users[\"updated_Date\"] = now\n",
    "sessions[\"updated_Date\"] = now\n",
    "events[\"updated_Date\"] = now\n",
    "hotels[\"updated_Date\"] = now\n",
    "payments[\"updated_Date\"] = now"
   ]
  },
  {
   "cell_type": "code",
   "execution_count": null,
   "id": "5b189b00",
   "metadata": {},
   "outputs": [
    {
     "data": {
      "text/plain": [
       "350690"
      ]
     },
     "execution_count": 28,
     "metadata": {},
     "output_type": "execute_result"
    }
   ],
   "source": [
    "'''users.to_sql(name='users', con=engine,if_exists='append',chunksize=10000, index=False)\n",
    "sessions.to_sql(name='sessions', con=engine,if_exists='append',chunksize=10000, index=False)\n",
    "events.to_sql(name='events', con=engine,if_exists='append',chunksize=10000, index=False)\n",
    "hotels.to_sql(name='hotels', con=engine,if_exists='append',chunksize=10000, index=False)\n",
    "payments.to_sql(name='payments', con=engine,if_exists='append',chunksize=10000, index=False)'''"
   ]
  }
 ],
 "metadata": {
  "kernelspec": {
   "display_name": "Python 3",
   "language": "python",
   "name": "python3"
  },
  "language_info": {
   "codemirror_mode": {
    "name": "ipython",
    "version": 3
   },
   "file_extension": ".py",
   "mimetype": "text/x-python",
   "name": "python",
   "nbconvert_exporter": "python",
   "pygments_lexer": "ipython3",
   "version": "3.9.6"
  }
 },
 "nbformat": 4,
 "nbformat_minor": 5
}
